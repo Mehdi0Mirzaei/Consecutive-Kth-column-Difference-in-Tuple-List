{
 "cells": [
  {
   "cell_type": "code",
   "execution_count": 38,
   "id": "8ca386c9",
   "metadata": {},
   "outputs": [
    {
     "name": "stdout",
     "output_type": "stream",
     "text": [
      "The original list is : [(5, 4, 2), (1, 3, 4), (5, 7, 8), (7, 4, 3)]\n",
      "Resultant tuple list : [1, 4, 3]\n"
     ]
    }
   ],
   "source": [
    "# initializing list\n",
    "test_list = [(5, 4, 2), (1, 3, 4), (5, 7, 8), (7, 4, 3)]\n",
    " \n",
    "# printing original list\n",
    "print(\"The original list is : \" + str(test_list))\n",
    " \n",
    "# initializing K \n",
    "K = 1\n",
    " \n",
    "res = []\n",
    "for idx in range(0, len(test_list) - 1):\n",
    " # getting difference using abs()\n",
    "    res.append(abs(test_list[idx][K] - test_list[idx + 1][K]))\n",
    "     \n",
    "# printing result \n",
    "print(\"Resultant tuple list : \" + str(res))"
   ]
  },
  {
   "cell_type": "code",
   "execution_count": 39,
   "id": "1eba7d69",
   "metadata": {},
   "outputs": [
    {
     "name": "stdout",
     "output_type": "stream",
     "text": [
      "The original list is : [(5, 4, 2), (1, 3, 4), (5, 7, 8), (7, 4, 3)]\n",
      "Resultant tuple list : [1, 4, 3]\n"
     ]
    }
   ],
   "source": [
    "# initializing list\n",
    "test_list = [(5, 4, 2), (1, 3, 4), (5, 7, 8), (7, 4, 3)]\n",
    " \n",
    "# printing original list\n",
    "print(\"The original list is : \" + str(test_list))\n",
    " \n",
    "# initializing K \n",
    "K = 1\n",
    " \n",
    "# zip used to pair each tuple with subsequent tuple\n",
    "res = [abs(x[K] - y[K]) for x, y in zip(test_list, test_list[1:])]\n",
    "     \n",
    "# printing result \n",
    "print(\"Resultant tuple list : \" + str(res))"
   ]
  },
  {
   "cell_type": "code",
   "execution_count": 40,
   "id": "637a5658",
   "metadata": {},
   "outputs": [
    {
     "name": "stdout",
     "output_type": "stream",
     "text": [
      "The original list is : [(5, 4, 2), (1, 3, 4), (5, 7, 8), (7, 4, 3)]\n",
      "Resultant tuple list : [1, 4, 3]\n"
     ]
    }
   ],
   "source": [
    "import numpy as np\n",
    " \n",
    "# initializing list\n",
    "test_list = [(5, 4, 2), (1, 3, 4), (5, 7, 8), (7, 4, 3)]\n",
    " \n",
    "# printing original list\n",
    "print(\"The original list is : \" + str(test_list))\n",
    " \n",
    "# initializing K \n",
    "K = 1\n",
    " \n",
    "# convert the tuple list to a numpy array\n",
    "arr = np.array(test_list)\n",
    " \n",
    "# calculate the consecutive Kth column difference using numpy\n",
    "res = np.abs(np.diff(arr[:, K]))\n",
    " \n",
    "# printing result \n",
    "print(\"Resultant tuple list : \" + str(list(res)))\n"
   ]
  },
  {
   "cell_type": "code",
   "execution_count": 41,
   "id": "b6620d9e",
   "metadata": {},
   "outputs": [
    {
     "name": "stdout",
     "output_type": "stream",
     "text": [
      "The original list is : [(5, 4, 2), (1, 3, 4), (5, 7, 8), (7, 4, 3)]\n",
      "Resultant tuple list : [1, 4, 3]\n"
     ]
    }
   ],
   "source": [
    "# initializing list\n",
    "test_list = [(5, 4, 2), (1, 3, 4), (5, 7, 8), (7, 4, 3)]\n",
    " \n",
    "# printing original list\n",
    "print(\"The original list is : \" + str(test_list))\n",
    " \n",
    "# initializing K\n",
    "K = 1\n",
    " \n",
    "# using list slicing to get Kth column difference\n",
    "res = [abs(test_list[i][K] - test_list[i+1][K]) for i in range(len(test_list)-K)]\n",
    " \n",
    "# printing result\n",
    "print(\"Resultant tuple list : \" + str(res))"
   ]
  },
  {
   "cell_type": "code",
   "execution_count": null,
   "id": "c9444407",
   "metadata": {},
   "outputs": [],
   "source": []
  }
 ],
 "metadata": {
  "kernelspec": {
   "display_name": "Python 3 (ipykernel)",
   "language": "python",
   "name": "python3"
  },
  "language_info": {
   "codemirror_mode": {
    "name": "ipython",
    "version": 3
   },
   "file_extension": ".py",
   "mimetype": "text/x-python",
   "name": "python",
   "nbconvert_exporter": "python",
   "pygments_lexer": "ipython3",
   "version": "3.9.13"
  }
 },
 "nbformat": 4,
 "nbformat_minor": 5
}
